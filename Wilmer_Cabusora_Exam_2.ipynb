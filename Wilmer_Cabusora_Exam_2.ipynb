{
  "cells": [
    {
      "cell_type": "markdown",
      "source": [
        "This is Part 2 of the midterm exam\n"
      ],
      "metadata": {
        "id": "mcueqM4_ntcy"
      }
    },
    {
      "cell_type": "code",
      "source": [
        "numbers = [1, 2, 3, 4, 5, 6]\n",
        "\n",
        "for number in numbers:\n",
        "  if (number%2) == 0:\n",
        "    print(f\"{number} is even\")\n",
        "  else:\n",
        "    print(f\"{number} is odd\")"
      ],
      "metadata": {
        "id": "eInvMwbw_vNl",
        "outputId": "f29cf7d3-63b6-471c-b169-b07f1c671d75",
        "colab": {
          "base_uri": "https://localhost:8080/"
        }
      },
      "execution_count": 13,
      "outputs": [
        {
          "output_type": "stream",
          "name": "stdout",
          "text": [
            "1 is odd\n",
            "2 is even\n",
            "3 is odd\n",
            "4 is even\n",
            "5 is odd\n",
            "6 is even\n"
          ]
        }
      ]
    },
    {
      "cell_type": "markdown",
      "source": [
        "The code tells if the number is odd or even."
      ],
      "metadata": {
        "id": "j7Ebu6f0k-cK"
      }
    },
    {
      "cell_type": "code",
      "source": [
        "numbers = [1, 2, 3, 4, 5, 6]\n",
        "evens = [ ]\n",
        "odds = [ ]\n",
        "\n",
        "for number in numbers:\n",
        "  if (number%2) == 0:\n",
        "    evens.append(number)\n",
        "\n",
        "for number in numbers:\n",
        "  if (number%2) != 0:\n",
        "    odds.append(number)\n",
        "\n",
        "print(evens)\n",
        "print(odds)      \n",
        "\n"
      ],
      "metadata": {
        "id": "6yfbXwEoCI3J",
        "outputId": "d6270bfb-a607-4d28-b8dd-00f92e1aff7d",
        "colab": {
          "base_uri": "https://localhost:8080/"
        }
      },
      "execution_count": 11,
      "outputs": [
        {
          "output_type": "stream",
          "name": "stdout",
          "text": [
            "[2, 4, 6]\n",
            "[1, 3, 5]\n"
          ]
        }
      ]
    },
    {
      "cell_type": "markdown",
      "source": [
        "The code separates the numbers into even and odd."
      ],
      "metadata": {
        "id": "jnl4j7lTlJRp"
      }
    },
    {
      "cell_type": "code",
      "source": [
        "numbers = [1, 2, 3, 4, 5, 6]\n",
        "doubles = [ ]\n",
        "\n",
        "for number in numbers:\n",
        "  number *= 2\n",
        "  doubles.append(number)\n",
        "print(doubles)  "
      ],
      "metadata": {
        "id": "h_xllIW7C_83",
        "outputId": "af389ca7-304c-451b-a40a-3fc582b24657",
        "colab": {
          "base_uri": "https://localhost:8080/"
        }
      },
      "execution_count": 10,
      "outputs": [
        {
          "output_type": "stream",
          "name": "stdout",
          "text": [
            "[2, 4, 6, 8, 10, 12]\n"
          ]
        }
      ]
    },
    {
      "cell_type": "markdown",
      "source": [
        "The code prints the number and it will double the values of it."
      ],
      "metadata": {
        "id": "Ul2ZlgFllQoP"
      }
    },
    {
      "cell_type": "code",
      "source": [
        "numbers = [1, 2, 3, 4, 5, 6]\n",
        "\n",
        "evens = [number for number in numbers if (number % 2) == 0]\n",
        "odds = [number for number in numbers if (number % 2) != 0]\n",
        "\n",
        "print(evens)\n",
        "print(odds)"
      ],
      "metadata": {
        "id": "Z-No9yRKDYXO",
        "outputId": "9ecdbe39-aeb1-4d8a-a861-e3d9eceeb601",
        "colab": {
          "base_uri": "https://localhost:8080/"
        }
      },
      "execution_count": 9,
      "outputs": [
        {
          "output_type": "stream",
          "name": "stdout",
          "text": [
            "[2, 4, 6]\n",
            "[1, 3, 5]\n"
          ]
        }
      ]
    },
    {
      "cell_type": "markdown",
      "source": [
        "the code funcitons just like the other odd and even codes but they have different codes."
      ],
      "metadata": {
        "id": "9GBhMhKPlnjI"
      }
    },
    {
      "cell_type": "code",
      "source": [
        "numbers = [1, 2, 3, 4, 5, 6]\n",
        "doubles = [number * 2 for number in numbers]\n",
        "print(doubles)"
      ],
      "metadata": {
        "id": "PgvCd5FWD6xM",
        "outputId": "70790153-c795-4910-cdf2-d6bcea5c5603",
        "colab": {
          "base_uri": "https://localhost:8080/"
        }
      },
      "execution_count": 8,
      "outputs": [
        {
          "output_type": "stream",
          "name": "stdout",
          "text": [
            "[2, 4, 6, 8, 10, 12]\n"
          ]
        }
      ]
    },
    {
      "cell_type": "markdown",
      "source": [
        "the code functions just like the other double code but they have different codes."
      ],
      "metadata": {
        "id": "2slt_a5DmOS3"
      }
    },
    {
      "cell_type": "code",
      "source": [
        "name_lengths = []\n",
        "names = [\"alice\", \"bob\", \"carol\"]\n",
        "name_lengths = [len(name) for name in names]\n",
        "\n",
        "print(name_lengths)"
      ],
      "metadata": {
        "id": "loX4ckmeC6_5",
        "outputId": "a0f2b310-7072-4f45-c856-34a0809047ba",
        "colab": {
          "base_uri": "https://localhost:8080/"
        }
      },
      "execution_count": 14,
      "outputs": [
        {
          "output_type": "stream",
          "name": "stdout",
          "text": [
            "[5, 3, 5]\n"
          ]
        }
      ]
    },
    {
      "cell_type": "markdown",
      "source": [
        "it prints the names lengths."
      ],
      "metadata": {
        "id": "W8Sx0chpmzx_"
      }
    },
    {
      "cell_type": "code",
      "source": [
        "record = [\"alice\", 5]\n",
        "\n",
        "name, length = record\n",
        "\n",
        "print(f\"{name} have a length of {length}\")"
      ],
      "metadata": {
        "id": "4lRuknRGErzR",
        "outputId": "5e6c7252-dfa5-4580-c2ea-ea8d2a44efda",
        "colab": {
          "base_uri": "https://localhost:8080/"
        }
      },
      "execution_count": 5,
      "outputs": [
        {
          "output_type": "stream",
          "name": "stdout",
          "text": [
            "alice have a length of 5\n"
          ]
        }
      ]
    },
    {
      "cell_type": "markdown",
      "source": [
        "the code is different but it also tells the length of the name"
      ],
      "metadata": {
        "id": "L1IhIT9Im9Ot"
      }
    },
    {
      "cell_type": "code",
      "source": [
        "records = [\n",
        "           [\"alice\", 5],\n",
        "           [\"bob\", 3],\n",
        "           [\"carol\", 4],\n",
        "]\n",
        "\n",
        "for name, length in records:\n",
        "  print(f\"{name} have a length of {length}\")"
      ],
      "metadata": {
        "id": "s-rcdGd_FNre",
        "outputId": "ab13a461-95c7-4b9c-d5fb-9b44ff3ec737",
        "colab": {
          "base_uri": "https://localhost:8080/"
        }
      },
      "execution_count": 4,
      "outputs": [
        {
          "output_type": "stream",
          "name": "stdout",
          "text": [
            "alice have a length of 5\n",
            "bob have a length of 3\n",
            "carol have a length of 4\n"
          ]
        }
      ]
    },
    {
      "cell_type": "markdown",
      "source": [
        "the code is the same with the other but this has 2 names added in the list."
      ],
      "metadata": {
        "id": "1DENRrmwnVLA"
      }
    },
    {
      "cell_type": "code",
      "source": [
        "names = [\"alice\", \"bob\", \"carol\"]\n",
        "name_lengths = [5, 3, 5]\n",
        "\n",
        "for name, length in zip(names, name_lengths):\n",
        "  print(f\"{name} have a length of {length}\")\n",
        "\n",
        "  print (zip(names, name_lengths))\n",
        "  print (list(zip(names, name_lengths)))"
      ],
      "metadata": {
        "id": "UoFVZ1uQFnWk",
        "outputId": "cb142793-4a82-4369-b6b3-0d39cbe06865",
        "colab": {
          "base_uri": "https://localhost:8080/"
        }
      },
      "execution_count": 2,
      "outputs": [
        {
          "output_type": "stream",
          "name": "stdout",
          "text": [
            "alice have a length of 5\n",
            "<zip object at 0x7f3511093140>\n",
            "[('alice', 5), ('bob', 3), ('carol', 5)]\n",
            "bob have a length of 3\n",
            "<zip object at 0x7f3511093230>\n",
            "[('alice', 5), ('bob', 3), ('carol', 5)]\n",
            "carol have a length of 5\n",
            "<zip object at 0x7f3511093320>\n",
            "[('alice', 5), ('bob', 3), ('carol', 5)]\n"
          ]
        }
      ]
    },
    {
      "cell_type": "code",
      "source": [
        ""
      ],
      "metadata": {
        "id": "aHF5wltQEIVO"
      },
      "execution_count": null,
      "outputs": []
    },
    {
      "cell_type": "code",
      "source": [
        "names = [\"alice\", \"bob\", \"carol\", \"marvin\"]\n",
        "name_lengths = [5, 3, 5]\n",
        "genders = [\"female\", \"male\", \"female\"]\n",
        "ages = [15, 22, 34]\n",
        "\n",
        "for name, length, gender, age in zip(names,name_lengths, genders, ages):\n",
        "  print(f\"{name} have a length of {length}. They are {gender}. Ages are {age}\")\n",
        "print(filter)\n"
      ],
      "metadata": {
        "id": "FfIYUVb9GQdQ",
        "outputId": "dc1a5e38-fd66-4540-f18f-35c4346aa9f9",
        "colab": {
          "base_uri": "https://localhost:8080/"
        }
      },
      "execution_count": 3,
      "outputs": [
        {
          "output_type": "stream",
          "name": "stdout",
          "text": [
            "alice have a length of 5. They are female. Ages are 15\n",
            "bob have a length of 3. They are male. Ages are 22\n",
            "carol have a length of 5. They are female. Ages are 34\n",
            "<class 'filter'>\n"
          ]
        }
      ]
    }
  ],
  "metadata": {
    "colab": {
      "collapsed_sections": [],
      "name": "Wilmer_Cabusora_Exam_2",
      "toc_visible": true,
      "provenance": []
    },
    "kernelspec": {
      "display_name": "Python 3",
      "name": "python3"
    }
  },
  "nbformat": 4,
  "nbformat_minor": 0
}