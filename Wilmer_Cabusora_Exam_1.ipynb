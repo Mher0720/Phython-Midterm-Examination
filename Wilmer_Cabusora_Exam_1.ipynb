{
  "nbformat": 4,
  "nbformat_minor": 0,
  "metadata": {
    "colab": {
      "name": "Wilmer_Cabusora_Exam_1.ipynb",
      "provenance": [],
      "collapsed_sections": []
    },
    "kernelspec": {
      "name": "python3",
      "display_name": "Python 3"
    },
    "language_info": {
      "name": "python"
    }
  },
  "cells": [
    {
      "cell_type": "code",
      "source": [
        "heroes = ['Batman', 'Superman', 'Spiderman']\n",
        "print(heroes)\n",
        "print(heroes.index('Batman'))\n",
        "print(heroes[0])\n",
        "heroes.append('Wonderwoman')\n",
        "heroes.remove('Batman')\n",
        "print(heroes[2])\n",
        "print(heroes.index('Superman'))\n",
        "print(heroes)"
      ],
      "metadata": {
        "id": "yFH8LzxMMkJN",
        "outputId": "a9bd426e-2eb7-4c5b-8616-f28c34f920b8",
        "colab": {
          "base_uri": "https://localhost:8080/"
        }
      },
      "execution_count": 1,
      "outputs": [
        {
          "output_type": "stream",
          "name": "stdout",
          "text": [
            "['Batman', 'Superman', 'Spiderman']\n",
            "0\n",
            "Batman\n",
            "Wonderwoman\n",
            "0\n",
            "['Superman', 'Spiderman', 'Wonderwoman']\n"
          ]
        }
      ]
    },
    {
      "cell_type": "markdown",
      "source": [
        "The error on the code is in the first line of code and it is the # that is located on heroes.And the function of this code is to print,add and delete."
      ],
      "metadata": {
        "id": "OtWRSr3Ob0_S"
      }
    },
    {
      "cell_type": "code",
      "source": [
        "heroes = ['Batman', 'Superman', 'Spiderman']\n",
        "print('Batman' in heroes)\n",
        "print('Ironman' not in heroes)\n",
        "hero = 'Superman'\n",
        "print(hero in heroes)\n",
        "print('Ironman' not in ['Captain America', 'Ironman', 'Hulk'])"
      ],
      "metadata": {
        "outputId": "8fc053de-f4c2-4af7-e133-a5e477571d39",
        "colab": {
          "base_uri": "https://localhost:8080/"
        },
        "id": "iIh_1aN7hQ0E"
      },
      "execution_count": 3,
      "outputs": [
        {
          "output_type": "stream",
          "name": "stdout",
          "text": [
            "True\n",
            "True\n",
            "True\n",
            "False\n"
          ]
        }
      ]
    },
    {
      "cell_type": "markdown",
      "source": [
        "The code is representing a boolean function .And the confusing part of the code is the # that is added in the code."
      ],
      "metadata": {
        "id": "gaHKgOzFdIPC"
      }
    },
    {
      "cell_type": "code",
      "source": [
        "heroes1 = ['Batman', 'Superman', 'Spiderman']\n",
        "heroes2 = ['Captain America', 'Ironman', 'Hulk']\n",
        "print(heroes1 + heroes2)\n",
        "heroes = heroes1 + heroes2\n",
        "heroes2.remove('Hulk')\n",
        "print(heroes1 + heroes2)"
      ],
      "metadata": {
        "colab": {
          "base_uri": "https://localhost:8080/"
        },
        "id": "pHmppBIjdpeq",
        "outputId": "96e6de7d-6ca5-402d-b258-dab3fbc2f3f4"
      },
      "execution_count": 4,
      "outputs": [
        {
          "output_type": "stream",
          "name": "stdout",
          "text": [
            "['Batman', 'Superman', 'Spiderman', 'Captain America', 'Ironman', 'Hulk']\n",
            "['Batman', 'Superman', 'Spiderman', 'Captain America', 'Ironman']\n"
          ]
        }
      ]
    },
    {
      "cell_type": "markdown",
      "source": [
        "There is something missing in the code that's why i added something and the code have been executed properly."
      ],
      "metadata": {
        "id": "OecFuzl-eBkR"
      }
    },
    {
      "cell_type": "code",
      "source": [
        "heroes = ['Batman', 'Superman', 'Spiderman', 'Captain America', 'Ironman', 'Hulk']\n",
        "heroes.sort()\n",
        "print(heroes)"
      ],
      "metadata": {
        "colab": {
          "base_uri": "https://localhost:8080/"
        },
        "id": "6M4higRDe3Pg",
        "outputId": "9a10bf26-c860-43e2-f114-b9282858047e"
      },
      "execution_count": 5,
      "outputs": [
        {
          "output_type": "stream",
          "name": "stdout",
          "text": [
            "['Batman', 'Captain America', 'Hulk', 'Ironman', 'Spiderman', 'Superman']\n"
          ]
        }
      ]
    },
    {
      "cell_type": "markdown",
      "source": [
        "There is a lost # in the code and after i remove it the code has been executed properly."
      ],
      "metadata": {
        "id": "VlmOISQve7ww"
      }
    },
    {
      "cell_type": "code",
      "source": [
        "heroes = ['Batman', 'Superman', 'Spiderman', 'Captain America', 'Ironman', 'Hulk']\n",
        "heroes.reverse()\n",
        "print(heroes)"
      ],
      "metadata": {
        "colab": {
          "base_uri": "https://localhost:8080/"
        },
        "id": "GjKZzUCwfPwj",
        "outputId": "7ee5b574-598b-42cb-9eca-082b1b2d320a"
      },
      "execution_count": 6,
      "outputs": [
        {
          "output_type": "stream",
          "name": "stdout",
          "text": [
            "['Hulk', 'Ironman', 'Captain America', 'Spiderman', 'Superman', 'Batman']\n"
          ]
        }
      ]
    },
    {
      "cell_type": "markdown",
      "source": [
        "The printing in this code is in reverse."
      ],
      "metadata": {
        "id": "ANlsIkkxfomw"
      }
    },
    {
      "cell_type": "code",
      "source": [
        "heroes = ['Batman', 'Superman', 'Spiderman', 'Captain America', 'Ironman', 'Hulk']\n",
        "print(sorted(heroes))\n",
        "print(list(reversed(heroes)))\n",
        "print(heroes)"
      ],
      "metadata": {
        "colab": {
          "base_uri": "https://localhost:8080/"
        },
        "id": "YgZhbH7AfxLh",
        "outputId": "df3e5f23-79eb-413c-b0ec-3503e32dd60b"
      },
      "execution_count": 7,
      "outputs": [
        {
          "output_type": "stream",
          "name": "stdout",
          "text": [
            "['Batman', 'Captain America', 'Hulk', 'Ironman', 'Spiderman', 'Superman']\n",
            "['Hulk', 'Ironman', 'Captain America', 'Spiderman', 'Superman', 'Batman']\n",
            "['Batman', 'Superman', 'Spiderman', 'Captain America', 'Ironman', 'Hulk']\n"
          ]
        }
      ]
    },
    {
      "cell_type": "markdown",
      "source": [
        "the codes function is printing by order , by reverse order and the original order."
      ],
      "metadata": {
        "id": "cPu7J14UgCgS"
      }
    },
    {
      "cell_type": "code",
      "source": [
        "heroes = ['Batman', 'Superman', 'Spiderman', 'Captain America', 'Ironman', 'Hulk']\n",
        "for hero in heroes:\n",
        "  print(f\"my hero is {hero}\")"
      ],
      "metadata": {
        "colab": {
          "base_uri": "https://localhost:8080/"
        },
        "id": "y1dH4vAzgVjR",
        "outputId": "25d5a08a-2e3a-4c8e-9385-01dcd6de7555"
      },
      "execution_count": 8,
      "outputs": [
        {
          "output_type": "stream",
          "name": "stdout",
          "text": [
            "my hero is Batman\n",
            "my hero is Superman\n",
            "my hero is Spiderman\n",
            "my hero is Captain America\n",
            "my hero is Ironman\n",
            "my hero is Hulk\n"
          ]
        }
      ]
    },
    {
      "cell_type": "markdown",
      "source": [
        "It prints the values with the starting \"my hero is\" in a sentence."
      ],
      "metadata": {
        "id": "SbtR0SOzgeeJ"
      }
    },
    {
      "cell_type": "code",
      "source": [
        "heroes = ['Batman', 'Superman', 'Spiderman', 'Captain America', 'Ironman', 'Hulk']\n",
        "for hero in heroes:\n",
        "  print(\"my hero is {}\".format(hero))"
      ],
      "metadata": {
        "colab": {
          "base_uri": "https://localhost:8080/"
        },
        "id": "FzQ1CUl0guuS",
        "outputId": "b957d38b-5661-4450-c21c-8ca7a7ff007e"
      },
      "execution_count": 9,
      "outputs": [
        {
          "output_type": "stream",
          "name": "stdout",
          "text": [
            "my hero is Batman\n",
            "my hero is Superman\n",
            "my hero is Spiderman\n",
            "my hero is Captain America\n",
            "my hero is Ironman\n",
            "my hero is Hulk\n"
          ]
        }
      ]
    },
    {
      "cell_type": "markdown",
      "source": [
        "The code is not the same as the other one but they have the same output."
      ],
      "metadata": {
        "id": "8lD63l3XhHoR"
      }
    },
    {
      "cell_type": "code",
      "source": [
        "numbers = [1, 2, 3, 4, 5, 6]\n",
        "total = 0\n",
        "for number in numbers:\n",
        "  total = total + number\n",
        "  print(total)"
      ],
      "metadata": {
        "colab": {
          "base_uri": "https://localhost:8080/"
        },
        "id": "HpBw2NzihT5h",
        "outputId": "b5b7e292-2381-4817-cd60-cdfe7c7dd571"
      },
      "execution_count": 10,
      "outputs": [
        {
          "output_type": "stream",
          "name": "stdout",
          "text": [
            "1\n",
            "3\n",
            "6\n",
            "10\n",
            "15\n",
            "21\n"
          ]
        }
      ]
    },
    {
      "cell_type": "markdown",
      "source": [
        "The code Adds the numbers and print it until it prints the total."
      ],
      "metadata": {
        "id": "1wtO_LxihZ4R"
      }
    },
    {
      "cell_type": "code",
      "source": [
        "numbers = [1, 2, 3, 4, 5, 6]\n",
        "total = sum(numbers)\n",
        "print(total)"
      ],
      "metadata": {
        "colab": {
          "base_uri": "https://localhost:8080/"
        },
        "id": "-3TIeikghvrC",
        "outputId": "06867a8e-5a80-42a3-9ab1-cc3eeb220a80"
      },
      "execution_count": 11,
      "outputs": [
        {
          "output_type": "stream",
          "name": "stdout",
          "text": [
            "21\n"
          ]
        }
      ]
    },
    {
      "cell_type": "markdown",
      "source": [
        "It prints the total of it by adding the values."
      ],
      "metadata": {
        "id": "yl_Toz22hze3"
      }
    },
    {
      "cell_type": "code",
      "source": [
        "age = input(\"Type your age: \")\n",
        "age = int(age)\n",
        "if age >= 100:\n",
        "  print(\"That is not a valid age\")\n",
        "elif age >= 18:\n",
        "  print(\"You are old enough to drive\")\n",
        "elif age <= 0:\n",
        "  print(\"That is not a valid age\")\n",
        "else:\n",
        "   print(\"You are old enough to drive\") "
      ],
      "metadata": {
        "colab": {
          "base_uri": "https://localhost:8080/"
        },
        "id": "ltCN6PBYh7JZ",
        "outputId": "cbd87e96-6d2a-4a23-b319-883dc1c66220"
      },
      "execution_count": 12,
      "outputs": [
        {
          "output_type": "stream",
          "name": "stdout",
          "text": [
            "Type your age: 18\n",
            "You are old enough to drive\n"
          ]
        }
      ]
    },
    {
      "cell_type": "markdown",
      "source": [
        "This code ask your age to know if you are old enough to drive."
      ],
      "metadata": {
        "id": "5xFaoFdiiCKB"
      }
    },
    {
      "cell_type": "code",
      "source": [
        "age = input(\"Type your age: \")\n",
        "age = int(age)\n",
        "if age >= 100 or age <= 0:\n",
        "  print(\"That is not a valid age\")\n",
        "elif age >= 18:\n",
        "  print(\"You are old enough to drive\")\n",
        "else:\n",
        "   print(\"You are old enough to drive\")  "
      ],
      "metadata": {
        "id": "VOATdb2MiOh4"
      },
      "execution_count": null,
      "outputs": []
    },
    {
      "cell_type": "markdown",
      "source": [
        "The code is not the same with the other one but they have the same output and function."
      ],
      "metadata": {
        "id": "K3BHexEUiYZJ"
      }
    },
    {
      "cell_type": "code",
      "source": [
        "numbers = [200, 100, 43, 10, -10, 0]\n",
        "for number in numbers:\n",
        "  if number > 100:\n",
        "    print(f\"{number} is greater than 100\")\n",
        "  elif number <100:\n",
        "    print(f\"{number} is less than 100\") "
      ],
      "metadata": {
        "colab": {
          "base_uri": "https://localhost:8080/"
        },
        "id": "6WUR7jZ3ijdB",
        "outputId": "4db817c6-c26b-4c0a-ff0b-6cb8a17cbe4b"
      },
      "execution_count": 16,
      "outputs": [
        {
          "output_type": "stream",
          "name": "stdout",
          "text": [
            "200 is greater than 100\n",
            "43 is less than 100\n",
            "10 is less than 100\n",
            "-10 is less than 100\n",
            "0 is less than 100\n"
          ]
        }
      ]
    },
    {
      "cell_type": "markdown",
      "source": [
        "The code prints the number if they are less or greater."
      ],
      "metadata": {
        "id": "gll67E24jVmp"
      }
    },
    {
      "cell_type": "code",
      "source": [
        "numbers = [200, 100, 43, 10, -10, 0]\n",
        "filtered = []\n",
        "\n",
        "for number in numbers:\n",
        "  if number > 30:\n",
        "    filtered.append(number)\n",
        "\n",
        "print(filtered)  "
      ],
      "metadata": {
        "id": "A79urvSljieK"
      },
      "execution_count": null,
      "outputs": []
    },
    {
      "cell_type": "markdown",
      "source": [
        "This code prints the number in filtered."
      ],
      "metadata": {
        "id": "2OStzdPVjmKI"
      }
    }
  ]
}